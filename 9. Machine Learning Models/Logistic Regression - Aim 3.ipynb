{
 "cells": [
  {
   "cell_type": "code",
   "execution_count": null,
   "id": "b2db685b",
   "metadata": {},
   "outputs": [],
   "source": [
    "import os\n",
    "import pandas as pd\n",
    "import matplotlib.ticker as mticker\n",
    "import numpy as np\n",
    "from sklearn.linear_model import LogisticRegression\n",
    "from sklearn.pipeline import make_pipeline\n",
    "from sklearn.preprocessing import StandardScaler\n",
    "from sklearn.model_selection import GridSearchCV, cross_val_score\n",
    "from sklearn.metrics import roc_auc_score, classification_report, RocCurveDisplay, PrecisionRecallDisplay\n",
    "from sklearn.datasets import make_classification\n",
    "from sklearn.model_selection import train_test_split\n",
    "import matplotlib.pyplot as plt\n",
    "from matplotlib.gridspec import GridSpec\n",
    "from sklearn.calibration import CalibratedClassifierCV"
   ]
  },
  {
   "cell_type": "markdown",
   "id": "f8c1d42f",
   "metadata": {},
   "source": [
    "### Load in relevant data"
   ]
  },
  {
   "cell_type": "code",
   "execution_count": null,
   "id": "6c95953a",
   "metadata": {},
   "outputs": [],
   "source": [
    "training_data = pd.read_csv('final\\\\2b. Compare Cox, ML\\\\CoxMLTraining_totalModel.csv')\n",
    "testing_data = pd.read_csv('final\\\\2b. Compare Cox, ML\\\\CoxMLTesting_totalModel.csv')"
   ]
  },
  {
   "cell_type": "code",
   "execution_count": null,
   "id": "b42bfa64",
   "metadata": {},
   "outputs": [],
   "source": [
    "# keep relevant columns for predictors\n",
    "training_data = training_data[[\"baseline_age\", \"followup_age\", \"followup_time\", \"gender_encoded\", \"ethnicity_encoded\", \"townsend\", \"height (cm)\", \"weight (kg)\", \"alcohol_status\", \"smoking_status\", \"diabetes_status\", \"antiplatelets_use\", \"crp value (mg/L)\", \"total_outcomes\"]]\n",
    "testing_data = testing_data[[\"baseline_age\", \"followup_age\", \"followup_time\", \"gender_encoded\", \"ethnicity_encoded\", \"townsend\", \"height (cm)\", \"weight (kg)\", \"alcohol_status\", \"smoking_status\", \"diabetes_status\", \"antiplatelets_use\", \"crp value (mg/L)\", \"total_outcomes\"]]"
   ]
  },
  {
   "cell_type": "markdown",
   "id": "73614cec",
   "metadata": {},
   "source": [
    "### Split data into X (predictors) and Y (target)"
   ]
  },
  {
   "cell_type": "code",
   "execution_count": null,
   "id": "b4ec91b9",
   "metadata": {},
   "outputs": [],
   "source": [
    "X_train = training_data.iloc[:,1:-1].values\n",
    "y_train = training_data.iloc[:,-1].values\n",
    "\n",
    "X_test = testing_data.iloc[:,1:-1].values\n",
    "y_test = testing_data.iloc[:,-1].values"
   ]
  },
  {
   "cell_type": "markdown",
   "id": "5a11a7dd",
   "metadata": {},
   "source": [
    "### Make pipeline with StandardScaler and ML model of choice"
   ]
  },
  {
   "cell_type": "code",
   "execution_count": null,
   "id": "b2538818",
   "metadata": {},
   "outputs": [],
   "source": [
    "pipeline = make_pipeline(StandardScaler(), LogisticRegression())"
   ]
  },
  {
   "cell_type": "markdown",
   "id": "aa7cf380",
   "metadata": {},
   "source": [
    "### Set parameters for gridsearchCV"
   ]
  },
  {
   "cell_type": "code",
   "execution_count": null,
   "id": "e46cc3ef",
   "metadata": {},
   "outputs": [],
   "source": [
    "param_grid = {\n",
    "    'logisticregression__C': [0.01, 0.1, 1, 10, 100, 1000],\n",
    "    'logisticregression__penalty': ['l2'],\n",
    "    'logisticregression__solver': ['lbfgs'],\n",
    "    'logisticregression__max_iter': [1000],\n",
    "    'logisticregression__class_weight': ['balanced']\n",
    "}"
   ]
  },
  {
   "cell_type": "markdown",
   "id": "f437266b",
   "metadata": {},
   "source": [
    "### Perform gridsearchCV and get best model"
   ]
  },
  {
   "cell_type": "code",
   "execution_count": null,
   "id": "5abd1279",
   "metadata": {},
   "outputs": [],
   "source": [
    "grid_search = GridSearchCV(pipeline, param_grid, cv = 10)\n",
    "grid_search.fit(X_train, y_train)"
   ]
  },
  {
   "cell_type": "code",
   "execution_count": null,
   "id": "5db9fbf5",
   "metadata": {},
   "outputs": [],
   "source": [
    "best_params = grid_search.best_params_\n",
    "best_model = grid_search.best_estimator_\n",
    "best_model.fit(X_train, y_train)"
   ]
  },
  {
   "cell_type": "markdown",
   "id": "36b87bd0",
   "metadata": {},
   "source": [
    "### Evaluate model on test set and get scores"
   ]
  },
  {
   "cell_type": "markdown",
   "id": "7d9e53d6",
   "metadata": {},
   "source": [
    "#### AUC (c-statistic)"
   ]
  },
  {
   "cell_type": "code",
   "execution_count": null,
   "id": "329f0494",
   "metadata": {},
   "outputs": [],
   "source": [
    "# Evaluate the model on the test set\n",
    "y_pred = best_model.predict(X_test)\n",
    "auc_score = roc_auc_score(y_test, y_pred) \n",
    "classification_rep = classification_report(y_test, y_pred)\n",
    "print(\"Test set AUC score:\", auc_score)\n",
    "print(\"Classification report:\\n\", classification_rep)"
   ]
  },
  {
   "cell_type": "code",
   "execution_count": null,
   "id": "dedfa412",
   "metadata": {},
   "outputs": [],
   "source": [
    "# AUC confidence intervals\n",
    "from sklearn.metrics import roc_auc_score\n",
    "from math import sqrt\n",
    "\n",
    "def roc_auc_ci(y_true, y_score, positive=1):\n",
    "    AUC = roc_auc_score(y_true, y_score)\n",
    "    N1 = sum(y_true == positive)\n",
    "    N2 = sum(y_true != positive)\n",
    "    Q1 = AUC / (2 - AUC)\n",
    "    Q2 = 2*AUC**2 / (1 + AUC)\n",
    "    SE_AUC = sqrt((AUC*(1 - AUC) + (N1 - 1)*(Q1 - AUC**2) + (N2 - 1)*(Q2 - AUC**2)) / (N1*N2))\n",
    "    lower = AUC - 1.96*SE_AUC\n",
    "    upper = AUC + 1.96*SE_AUC\n",
    "    if lower < 0:\n",
    "        lower = 0\n",
    "    if upper > 1:\n",
    "        upper = 1\n",
    "    return (lower, upper)\n",
    "\n",
    "roc_auc_ci(y_test, y_pred, positive=1)"
   ]
  },
  {
   "cell_type": "markdown",
   "id": "bf0ac6f5",
   "metadata": {},
   "source": [
    "#### calibration plots"
   ]
  },
  {
   "cell_type": "code",
   "execution_count": null,
   "id": "15b63e07",
   "metadata": {},
   "outputs": [],
   "source": [
    "import matplotlib.pyplot as plt\n",
    "import matplotlib.ticker as mticker\n",
    "from sklearn.calibration import calibration_curve\n",
    "\n",
    "# Get the predicted probabilities from the best_model\n",
    "y_pred_probs = best_model.predict_proba(X_test)[:, 1]\n",
    "\n",
    "# Calculate the true probabilities using calibration_curve\n",
    "true_probs, pred_probs = calibration_curve(y_test, y_pred_probs, n_bins=10)\n",
    "\n",
    "# Create a new figure for the calibration plot\n",
    "fig_calibration = plt.figure(figsize=(10, 10))\n",
    "ax_calibration_curve = fig_calibration.add_subplot(111)\n",
    "\n",
    "# Plot the calibration curve\n",
    "ax_calibration_curve.plot(pred_probs, true_probs, marker='o')\n",
    "\n",
    "# Plot the diagonal line for perfect calibration\n",
    "ax_calibration_curve.plot([0, 1], [0, 1], linestyle='--', color='gray')\n",
    "\n",
    "# Customize the plot if needed\n",
    "ax_calibration_curve.grid(False)\n",
    "ax_calibration_curve.set_title(\"Calibration: Logistic Regression with Additional Predictors\")\n",
    "ax_calibration_curve.set_xlabel(\"Predicted 10-year risk\")\n",
    "ax_calibration_curve.set_ylabel(\"Observed 10-year risk\")\n",
    "\n",
    "# Define the tick formatter function\n",
    "def percent_formatter(x, pos):\n",
    "    return \"{:.0%}\".format(x)\n",
    "\n",
    "# Apply the tick formatter to the x and y axes\n",
    "ax_calibration_curve.xaxis.set_major_formatter(mticker.FuncFormatter(percent_formatter))\n",
    "ax_calibration_curve.yaxis.set_major_formatter(mticker.FuncFormatter(percent_formatter))\n",
    "\n",
    "text = \"C-statistic: 0.8394 (95%CI 0.834-0.845)\" \n",
    "ax_calibration_curve.text(0.05, 0.95, text, transform=ax_calibration_curve.transAxes,\n",
    "                          fontsize=12, verticalalignment='top', horizontalalignment='left')\n",
    "\n",
    "# Show the plot\n",
    "plt.show()"
   ]
  },
  {
   "cell_type": "markdown",
   "id": "102503b4",
   "metadata": {},
   "source": [
    "#### histogram of predicted risks"
   ]
  },
  {
   "cell_type": "code",
   "execution_count": null,
   "id": "feb98ba2",
   "metadata": {},
   "outputs": [],
   "source": [
    "import matplotlib.pyplot as plt\n",
    "import matplotlib.ticker as mticker\n",
    "\n",
    "# Get the predicted risks from the best_model\n",
    "y_pred_probs = best_model.predict_proba(X_test)[:, 1]\n",
    "\n",
    "# Create a new figure for the histogram\n",
    "fig_histogram = plt.figure(figsize=(8, 6))\n",
    "ax_histogram = fig_histogram.add_subplot(111)\n",
    "\n",
    "# Plot the histogram of predicted risks with grey bins\n",
    "n, bins, patches = ax_histogram.hist(y_pred_probs, bins=10, edgecolor='black', color='grey')\n",
    "\n",
    "# Set the y-axis tick formatter as percentage\n",
    "ax_histogram.yaxis.set_major_formatter(mticker.PercentFormatter(xmax=len(y_pred_probs)))\n",
    "\n",
    "ax_histogram.set_title(\"Distribution of Predicted Risk: Logistic Regression with Additional Predictors\")\n",
    "ax_histogram.set_xlabel(\"Predicted Risk\")\n",
    "ax_histogram.set_ylabel(\"Percent\")\n",
    "\n",
    "# Show the histogram plot\n",
    "plt.show()"
   ]
  },
  {
   "cell_type": "markdown",
   "id": "04383074",
   "metadata": {},
   "source": [
    "#### get mean and range of predicted risks"
   ]
  },
  {
   "cell_type": "code",
   "execution_count": null,
   "id": "5bebb67a",
   "metadata": {},
   "outputs": [],
   "source": [
    "np.mean(y_pred_probs) \n",
    "np.min(y_pred_probs) \n",
    "np.max(y_pred_probs) "
   ]
  }
 ],
 "metadata": {
  "kernelspec": {
   "display_name": "Python 3 (ipykernel)",
   "language": "python",
   "name": "python3"
  },
  "language_info": {
   "codemirror_mode": {
    "name": "ipython",
    "version": 3
   },
   "file_extension": ".py",
   "mimetype": "text/x-python",
   "name": "python",
   "nbconvert_exporter": "python",
   "pygments_lexer": "ipython3",
   "version": "3.9.12"
  }
 },
 "nbformat": 4,
 "nbformat_minor": 5
}
