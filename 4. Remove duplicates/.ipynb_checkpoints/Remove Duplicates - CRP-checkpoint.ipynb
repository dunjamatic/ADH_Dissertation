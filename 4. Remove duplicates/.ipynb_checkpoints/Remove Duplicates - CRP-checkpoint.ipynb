{
 "cells": [
  {
   "cell_type": "code",
   "execution_count": null,
   "id": "d6a264ec",
   "metadata": {},
   "outputs": [],
   "source": [
    "import fileinput\n",
    "import glob\n",
    "import pandas as pd\n",
    "import numpy as np\n",
    "import os\n",
    "from datetime import datetime\n",
    "from datetime import timedelta"
   ]
  },
  {
   "cell_type": "markdown",
   "id": "db847e11",
   "metadata": {},
   "source": [
    "### Examine CRP units"
   ]
  },
  {
   "cell_type": "code",
   "execution_count": null,
   "id": "629ccc21",
   "metadata": {},
   "outputs": [],
   "source": [
    "# get crp data\n",
    "crp = pd.read_csv(\"merged_files\\\\crp.csv\")\n",
    "\n",
    "# first check what the invalid dates are --> thankfully it is just nans\n",
    "not_datetime_crp = pd.to_datetime(crp[\"obsdate\"], errors = 'coerce').isna()\n",
    "not_datetime_crp = crp.obsdate[not_datetime_crp].unique()\n",
    "\n",
    "# change the dates to be valid datetimes\n",
    "crp[\"obsdate\"] = pd.to_datetime(crp[\"obsdate\"], errors = 'coerce')\n",
    "crp = crp.sort_values([\"e_patid\", \"obsdate\"]) # and sort values by date and patient id\n",
    "\n",
    "# get units table from dataset (text file with measurement units of the predictor)\n",
    "units_crp_id = pd.read_table(\"NumUnit.txt\")\n",
    "\n",
    "# now link crp and unitd_id based on the numunitid\n",
    "crp_units_merged = pd.merge(crp, units_crp_id, on = 'numunitid', how = 'left')\n",
    "\n",
    "# add column for crp with the numunitid description\n",
    "crp['unitdescription'] = crp_units_merged['Description']\n",
    "\n",
    "# explore the different crp units\n",
    "unit_counts_crp = crp.groupby('unitdescription').size().reset_index(name = 'counts')\n",
    "unit_counts_crp = unit_counts_crp.sort_values(by = 'counts', ascending = False)\n",
    "most_frequent_crp_units = unit_counts_crp[unit_counts_crp[\"counts\"] >= 1]"
   ]
  },
  {
   "cell_type": "markdown",
   "id": "a00fabc5",
   "metadata": {},
   "source": [
    "##### Plot histograms for each of the different CRP values"
   ]
  },
  {
   "cell_type": "code",
   "execution_count": null,
   "id": "689d87d1",
   "metadata": {},
   "outputs": [],
   "source": [
    "import matplotlib.pyplot as plt\n",
    "\n",
    "# Filter out the rows with NaN values in the \"value\" column\n",
    "crp_filtered = crp.dropna(subset=['value'])\n",
    "\n",
    "# Get the unique unit descriptions\n",
    "unique_units = crp_filtered['unitdescription'].unique()\n",
    "\n",
    "# Calculate the number of rows and columns for the subplots grid\n",
    "num_rows = (len(unique_units) + 2) // 3\n",
    "num_cols = min(len(unique_units), 3)\n",
    "\n",
    "# Set the figure size and adjust spacing\n",
    "fig, axes = plt.subplots(num_rows, num_cols, figsize=(12, 4*num_rows))\n",
    "fig.tight_layout(pad=3.0)\n",
    "\n",
    "# Iterate over each unique unit description and plot a histogram\n",
    "for i, unit in enumerate(unique_units):\n",
    "    row = i // num_cols\n",
    "    col = i % num_cols\n",
    "    ax = axes[row, col]\n",
    "\n",
    "    values = crp_filtered.loc[crp_filtered['unitdescription'] == unit, 'value']\n",
    "    ax.hist(values, bins=10, range=(0, 600))\n",
    "    ax.set_xlabel('Value')\n",
    "    ax.set_ylabel('Frequency')\n",
    "    ax.set_title(f'Histogram of CRP values ({unit})')\n",
    "    ax.set_xlim([0, 600])\n",
    "\n",
    "# Save the plots as a PDF document\n",
    "output_filepath = 'crp_histograms.pdf'\n",
    "plt.savefig(output_filepath, format='pdf')\n",
    "\n",
    "# Display the plots\n",
    "plt.show()"
   ]
  },
  {
   "cell_type": "markdown",
   "id": "048d2e0f",
   "metadata": {},
   "source": [
    "### Convert the CRP units that make sense to convert "
   ]
  },
  {
   "cell_type": "code",
   "execution_count": null,
   "id": "5ff1eb7b",
   "metadata": {},
   "outputs": [],
   "source": [
    "# scale the only values that I can... leave the rest as is because based on inspection, they were deemed as mg/L\n",
    "crp.loc[crp.unitdescription == 'mg/d1', 'value'] *= 10\n",
    "crp.loc[crp.unitdescription == 'MG/DL', 'value'] *= 10\n",
    "crp.loc[crp.unitdescription == 'mg/100mL', 'value'] *= 10\n",
    "crp.loc[crp.unitdescription == 'ug/L', 'value'] *= 0.001\n",
    "\n",
    "# set the **ERROR** value to nan\n",
    "crp.loc[crp.unitdescription == '**ERROR**', 'value'] = np.nan\n",
    "\n",
    "DIR = 'cleaned_files'\n",
    "os.chdir(DIR)\n",
    "crp.to_csv('crp.csv', index = False)"
   ]
  },
  {
   "cell_type": "markdown",
   "id": "5b2d1f38",
   "metadata": {},
   "source": [
    "### Plot updated CRP values"
   ]
  },
  {
   "cell_type": "code",
   "execution_count": null,
   "id": "79bceff0",
   "metadata": {},
   "outputs": [],
   "source": [
    "import matplotlib.pyplot as plt\n",
    "\n",
    "# Filter out the rows with NaN values in the \"value\" column\n",
    "crp_filtered = crp.dropna(subset=['value'])\n",
    "\n",
    "# Get the unique unit descriptions\n",
    "unique_units = crp_filtered['unitdescription'].unique()\n",
    "\n",
    "# Calculate the number of rows and columns for the subplots grid\n",
    "num_rows = (len(unique_units) + 2) // 3\n",
    "num_cols = min(len(unique_units), 3)\n",
    "\n",
    "# Set the figure size and adjust spacing\n",
    "fig, axes = plt.subplots(num_rows, num_cols, figsize=(12, 4*num_rows))\n",
    "fig.tight_layout(pad=3.0)\n",
    "\n",
    "# Iterate over each unique unit description and plot a histogram\n",
    "for i, unit in enumerate(unique_units):\n",
    "    row = i // num_cols\n",
    "    col = i % num_cols\n",
    "    ax = axes[row, col]\n",
    "\n",
    "    values = crp_filtered.loc[crp_filtered['unitdescription'] == unit, 'value']\n",
    "    ax.hist(values, bins=10, range=(0, 600))\n",
    "    ax.set_xlabel('Value')\n",
    "    ax.set_ylabel('Frequency')\n",
    "    ax.set_title(f'Histogram of CRP values ({unit})')\n",
    "    ax.set_xlim([0, 600])\n",
    "\n",
    "# Display the plots\n",
    "plt.show()"
   ]
  },
  {
   "cell_type": "markdown",
   "id": "76f93cc5",
   "metadata": {},
   "source": [
    "### Start CRP data"
   ]
  },
  {
   "cell_type": "code",
   "execution_count": null,
   "id": "53c70e7f",
   "metadata": {},
   "outputs": [],
   "source": [
    "# only keep relevant CRP data\n",
    "crp = crp[[\"e_patid\", \"value\", \"obsdate\"]]\n",
    "crp.rename(columns = {\"value\": \"crp value (mg/L)\", \"obsdate\": \"measuredate\"}, inplace = True)\n",
    "\n",
    "# load in outcome data\n",
    "DIR = \"cleaned_files\"\n",
    "os.chdir(DIR)\n",
    "outcome = pd.read_csv('outcomes.csv')\n",
    "outcome = outcome[[\"e_patid\", \"obsdate\"]]\n",
    "\n",
    "# Merge the data frames on patient id\n",
    "merged = pd.merge(outcome, crp, on = \"e_patid\")\n",
    "\n",
    "# Convert the date columns to datetime objects\n",
    "merged[\"obsdate\"] = pd.to_datetime(merged[\"obsdate\"])\n",
    "merged[\"measuredate\"] = pd.to_datetime(merged[\"measuredate\"], errors = \"coerce\")\n",
    "\n",
    "# Sort the data by patient id and date of weight measurement\n",
    "merged = merged.sort_values([\"e_patid\", \"measuredate\"])"
   ]
  },
  {
   "cell_type": "markdown",
   "id": "a61436ce",
   "metadata": {},
   "source": [
    "### Try different fixed time windows to assess % missingness"
   ]
  },
  {
   "cell_type": "code",
   "execution_count": null,
   "id": "8d555f76",
   "metadata": {},
   "outputs": [],
   "source": [
    "DIR = 'cleaned_files'\n",
    "os.chdir(DIR)\n",
    "\n",
    "# Remove invalid crp values\n",
    "merged.loc[merged['crp value (mg/L)'] < 0, 'crp value (mg/L)'] = np.nan\n",
    "\n",
    "# Sort by patient ID and measurement date\n",
    "merged = merged.sort_values(['e_patid', 'measuredate'])\n",
    "\n",
    "# Create empty dictionary to store data frames for different time windows\n",
    "dfs = {}\n",
    "\n",
    "# Loop over different time windows\n",
    "for time_window in [1, 2, 3, 4, 5, 10]:\n",
    "\n",
    "    # Create a copy of the data frame for the current time window\n",
    "    merged_window = merged.copy()\n",
    "\n",
    "    # Create a start date for the time window range (use obsdate as the end)\n",
    "    merged_window['date_start'] = pd.to_datetime(merged_window['obsdate']) - pd.DateOffset(years=time_window)\n",
    "    \n",
    "    # Ensure the other dates are in valid datetime format\n",
    "    merged_window['measuredate'] = pd.to_datetime(merged_window['measuredate'], errors = 'coerce') \n",
    "    merged_window['obsdate'] = pd.to_datetime(merged_window['obsdate'])\n",
    "\n",
    "    # Get T/F array of values that are in the timeframe (T) and that are not (F)\n",
    "    is_between_dates = (merged_window['measuredate'] >= merged_window['date_start']) & (merged_window['measuredate'] <= merged_window['obsdate'])\n",
    "\n",
    "    # Set values outside this valid window to NaN (because they are missing if they are not in the window!)\n",
    "    merged_window.loc[~is_between_dates, 'crp value (mg/L)'] = np.nan\n",
    "    \n",
    "    # Drop duplicates\n",
    "    merged_window = merged_window.sort_values(['e_patid', 'measuredate'])\n",
    "    merged_window['days_diff'] = abs(merged_window['measuredate'] - merged_window['obsdate']).dt.days\n",
    "    merged_window = merged_window.sort_values(['e_patid', 'obsdate', 'days_diff'], ascending=[True, True, True])\n",
    "    merged_window = merged_window.drop_duplicates(subset=['e_patid'], keep='first')\n",
    "    \n",
    "    # Only keep relevant columns\n",
    "    merged_window = merged_window[[\"e_patid\", \"crp value (mg/L)\", \"measuredate\"]]\n",
    "    merged_outcome = pd.merge(outcome, merged_window, on = 'e_patid', how = 'left')\n",
    "\n",
    "    # Save data frame to dictionary\n",
    "    dfs[f\"{time_window}yr\"] = merged_outcome[['e_patid', 'obsdate', 'crp value (mg/L)']]\n",
    "\n",
    "# Save data frames to CSV files in separate folders\n",
    "for folder_name, df in dfs.items():\n",
    "    df.to_csv(os.path.join(folder_name, 'crp_no_duplicates_merged.csv'), index=False)"
   ]
  },
  {
   "cell_type": "markdown",
   "id": "35f7d1b0",
   "metadata": {},
   "source": [
    "### Now try closest measurement to index date to assess % missingness"
   ]
  },
  {
   "cell_type": "code",
   "execution_count": null,
   "id": "78975e1a",
   "metadata": {},
   "outputs": [],
   "source": [
    "# try to see what closest measuredate to obsdate gets us in terms of missing values \n",
    "\n",
    "# Remove invalid height values\n",
    "merged.loc[merged['crp value (mg/L)'] < 0, 'crp value (mg/L)'] = np.nan\n",
    "\n",
    "merged = merged.sort_values(['e_patid', 'measuredate'])\n",
    "\n",
    "merged_window = merged.copy()\n",
    "\n",
    "# Get T/F array of values that are in the timeframe (T) and that are not (F)\n",
    "is_between_dates = (merged_window['measuredate'] <= merged_window['obsdate'])\n",
    "\n",
    "# Set values outside this valid window to NaN (because they are missing if they are not in the window!)\n",
    "merged_window.loc[~is_between_dates, 'crp value (mg/L)'] = np.nan\n",
    "\n",
    "# Drop duplicates\n",
    "merged_window['days_diff'] = abs(merged_window['measuredate'] - merged_window['obsdate']).dt.days\n",
    "merged_window = merged_window.sort_values(['e_patid', 'obsdate', 'days_diff'], ascending = [True, True, True])\n",
    "merged_window = merged_window.drop_duplicates(subset = ['e_patid'], keep = 'first')\n",
    "\n",
    "merged_window = merged_window[[\"e_patid\", \"crp value (mg/L)\", \"measuredate\"]]\n",
    "merged_outcome = pd.merge(outcome, merged_window, on = 'e_patid', how = 'left')\n",
    "\n",
    "DIR = 'cleaned_files\\\\Closest'\n",
    "os.chdir(DIR)\n",
    "\n",
    "merged_outcome.to_csv('crp_no_duplicates_merged.csv', index = False)\n",
    "\n",
    "merged_outcome['crp value (mg/L)'].isna().sum()"
   ]
  }
 ],
 "metadata": {
  "kernelspec": {
   "display_name": "Python 3 (ipykernel)",
   "language": "python",
   "name": "python3"
  },
  "language_info": {
   "codemirror_mode": {
    "name": "ipython",
    "version": 3
   },
   "file_extension": ".py",
   "mimetype": "text/x-python",
   "name": "python",
   "nbconvert_exporter": "python",
   "pygments_lexer": "ipython3",
   "version": "3.9.12"
  }
 },
 "nbformat": 4,
 "nbformat_minor": 5
}
