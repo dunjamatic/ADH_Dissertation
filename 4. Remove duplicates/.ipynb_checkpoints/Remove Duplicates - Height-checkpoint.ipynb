{
 "cells": [
  {
   "cell_type": "code",
   "execution_count": null,
   "id": "11ba6488",
   "metadata": {},
   "outputs": [],
   "source": [
    "import fileinput\n",
    "import glob\n",
    "import pandas as pd\n",
    "import numpy as np\n",
    "import os\n",
    "from datetime import datetime\n",
    "from datetime import timedelta"
   ]
  },
  {
   "cell_type": "markdown",
   "id": "6fdee650",
   "metadata": {},
   "source": [
    "### Load in the data"
   ]
  },
  {
   "cell_type": "code",
   "execution_count": null,
   "id": "02a6fb11",
   "metadata": {},
   "outputs": [],
   "source": [
    "# load the height data!\n",
    "DIR = \"cleaned_files\"\n",
    "os.chdir(DIR)\n",
    "height = pd.read_csv(\"height.csv\")\n",
    "\n",
    "# load in outcome data\n",
    "DIR = \"cleaned_files\"\n",
    "os.chdir(DIR)\n",
    "outcome = pd.read_csv('outcomes.csv')\n",
    "outcome = outcome[[\"e_patid\", \"obsdate\"]]\n",
    "\n",
    "# keep only relevant rows of both data frames\n",
    "height = height[[\"e_patid\", \"height (cm)\", \"measuredate\"]]\n",
    "\n",
    "# Merge the data frames on patient id\n",
    "merged = pd.merge(outcome, height, on = \"e_patid\")\n",
    "\n",
    "# Convert the date columns to datetime objects\n",
    "merged[\"obsdate\"] = pd.to_datetime(merged[\"obsdate\"])\n",
    "merged[\"measuredate\"] = pd.to_datetime(merged[\"measuredate\"], errors = \"coerce\")\n",
    "\n",
    "# Sort the data by patient id and date of height measurement\n",
    "merged = merged.sort_values([\"e_patid\", \"measuredate\"])"
   ]
  },
  {
   "cell_type": "markdown",
   "id": "0d07d91a",
   "metadata": {},
   "source": [
    "### Try different fixed time windows to assess % missingness/"
   ]
  },
  {
   "cell_type": "code",
   "execution_count": null,
   "id": "55542aa9",
   "metadata": {},
   "outputs": [],
   "source": [
    "DIR = 'cleaned_files'\n",
    "os.chdir(DIR)\n",
    "\n",
    "# Remove invalid height values\n",
    "merged.loc[merged['height (cm)'] < 0, 'height (cm)'] = np.nan\n",
    "\n",
    "# Sort by patient ID and measurement date\n",
    "merged = merged.sort_values(['e_patid', 'measuredate'])\n",
    "\n",
    "# Create empty dictionary to store data frames for different time windows\n",
    "dfs = {}\n",
    "\n",
    "# Loop over different time windows\n",
    "for time_window in [1, 2, 3, 4, 5, 10]:\n",
    "\n",
    "    # Create a copy of the data frame for the current time window\n",
    "    merged_window = merged.copy()\n",
    "\n",
    "    # Create a start date for the time window range (use obsdate as the end)\n",
    "    merged_window['date_start'] = pd.to_datetime(merged_window['obsdate']) - pd.DateOffset(years=time_window)\n",
    "    \n",
    "    # Ensure the other dates are in valid datetime format\n",
    "    merged_window['measuredate'] = pd.to_datetime(merged_window['measuredate'], errors = 'coerce') \n",
    "    merged_window['obsdate'] = pd.to_datetime(merged_window['obsdate'])\n",
    "\n",
    "    # Get T/F array of values that are in the timeframe (T) and that are not (F)\n",
    "    is_between_dates = (merged_window['measuredate'] >= merged_window['date_start']) & (merged_window['measuredate'] <= merged_window['obsdate'])\n",
    "\n",
    "    # Set values outside this valid window to NaN (because they are missing if they are not in the window!)\n",
    "    merged_window.loc[~is_between_dates, 'height (cm)'] = np.nan\n",
    "    \n",
    "    # Drop duplicates\n",
    "    merged_window = merged_window.sort_values(['e_patid', 'measuredate'])\n",
    "    merged_window['days_diff'] = abs(merged_window['measuredate'] - merged_window['obsdate']).dt.days\n",
    "    merged_window = merged_window.sort_values(['e_patid', 'obsdate', 'days_diff'], ascending=[True, True, True])\n",
    "    merged_window = merged_window.drop_duplicates(subset=['e_patid'], keep='first')\n",
    "    \n",
    "    # Only keep relevant columns\n",
    "    merged_window = merged_window[[\"e_patid\", \"height (cm)\", \"measuredate\"]]\n",
    "    merged_outcome = pd.merge(outcome, merged_window, on = 'e_patid', how = 'left')\n",
    "\n",
    "    # Save data frame to dictionary\n",
    "    dfs[f\"{time_window}yr\"] = merged_outcome[['e_patid', 'obsdate', 'height (cm)']]\n",
    "\n",
    "# Save data frames to CSV files in separate folders\n",
    "for folder_name, df in dfs.items():\n",
    "    df.to_csv(os.path.join(folder_name, 'height_no_duplicates_merged.csv'), index=False)"
   ]
  },
  {
   "cell_type": "markdown",
   "id": "4508b420",
   "metadata": {},
   "source": [
    "### Now try closest measurement to index date to assess % missingness"
   ]
  },
  {
   "cell_type": "code",
   "execution_count": null,
   "id": "043cfcec",
   "metadata": {},
   "outputs": [],
   "source": [
    "# try to see what closest measuredate to obsdate gets us in terms of missing values \n",
    "\n",
    "# Remove invalid height values\n",
    "merged.loc[merged['height (cm)'] < 0, 'height (cm)'] = np.nan\n",
    "\n",
    "merged = merged.sort_values(['e_patid', 'measuredate'])\n",
    "\n",
    "merged_window = merged.copy()\n",
    "\n",
    "# Get T/F array of values that are in the timeframe (T) and that are not (F)\n",
    "is_between_dates = (merged_window['measuredate'] <= merged_window['obsdate'])\n",
    "\n",
    "# Set values outside this valid window to NaN (because they are missing if they are not in the window!)\n",
    "merged_window.loc[~is_between_dates, 'height (cm)'] = np.nan\n",
    "\n",
    "# Drop duplicates\n",
    "merged_window['days_diff'] = abs(merged_window['measuredate'] - merged_window['obsdate']).dt.days\n",
    "merged_window = merged_window.sort_values(['e_patid', 'obsdate', 'days_diff'], ascending = [True, True, True])\n",
    "merged_window = merged_window.drop_duplicates(subset = ['e_patid'], keep = 'first')\n",
    "\n",
    "merged_window = merged_window[[\"e_patid\", \"height (cm)\", \"measuredate\"]]\n",
    "merged_outcome = pd.merge(outcome, merged_window, on = 'e_patid', how = 'left')\n",
    "\n",
    "DIR = 'cleaned_files\\\\Closest'\n",
    "os.chdir(DIR)\n",
    "\n",
    "merged_outcome.to_csv('height_no_duplicates_merged.csv', index = False)\n",
    "\n",
    "merged_outcome['height (cm)'].isna().sum()"
   ]
  }
 ],
 "metadata": {
  "kernelspec": {
   "display_name": "Python 3 (ipykernel)",
   "language": "python",
   "name": "python3"
  },
  "language_info": {
   "codemirror_mode": {
    "name": "ipython",
    "version": 3
   },
   "file_extension": ".py",
   "mimetype": "text/x-python",
   "name": "python",
   "nbconvert_exporter": "python",
   "pygments_lexer": "ipython3",
   "version": "3.9.12"
  }
 },
 "nbformat": 4,
 "nbformat_minor": 5
}
