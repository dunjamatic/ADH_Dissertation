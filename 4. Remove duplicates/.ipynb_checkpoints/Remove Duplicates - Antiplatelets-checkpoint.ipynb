{
 "cells": [
  {
   "cell_type": "code",
   "execution_count": null,
   "id": "3cd0f930",
   "metadata": {},
   "outputs": [],
   "source": [
    "import fileinput\n",
    "import glob\n",
    "import pandas as pd\n",
    "import numpy as np\n",
    "import os\n",
    "from datetime import datetime\n",
    "from datetime import timedelta"
   ]
  },
  {
   "cell_type": "markdown",
   "id": "3f0d4b7d",
   "metadata": {},
   "source": [
    "### Load in the data"
   ]
  },
  {
   "cell_type": "code",
   "execution_count": null,
   "id": "d8da79db",
   "metadata": {},
   "outputs": [],
   "source": [
    "# Load outcome data\n",
    "DIR = \"cleaned_files\"\n",
    "os.chdir(DIR)\n",
    "outcome =  pd.read_csv(\"outcomes.csv\")\n",
    "compare = outcome.e_patid\n",
    "\n",
    "DIR = \"merged_files\"\n",
    "os.chdir(DIR)\n",
    "antiplatelets = pd.read_csv(\"antiplatelets.csv\", sep = \",\")\n",
    "\n",
    "DIR = \"cleaned_files\"\n",
    "os.chdir(DIR)\n",
    "antiplatelets = antiplatelets[antiplatelets['e_patid'].isin(outcome['e_patid'])]\n",
    "antiplatelets.to_csv(\"antiplatelets.csv\", index = False)"
   ]
  },
  {
   "cell_type": "markdown",
   "id": "cfd8cc54",
   "metadata": {},
   "source": [
    "### Organize antiplatelets data and mark as antiplatelets use (y/n) based on before IHD diagnosis"
   ]
  },
  {
   "cell_type": "code",
   "execution_count": null,
   "id": "390f0bbe",
   "metadata": {},
   "outputs": [],
   "source": [
    "# create new column where all people that use antiplatelets have a value of 1 \n",
    "antiplatelets['antiplatelets_use'] = 1\n",
    "\n",
    "# merge ihd and antiplatelets so that now our 'antiplatelets_use' has 1 for those that use it and 0 for those that do not\n",
    "merged_antiplatelets = pd.merge(outcome, antiplatelets, on = \"e_patid\", how = \"left\")\n",
    "merged_antiplatelets.antiplatelets_use = merged_antiplatelets.antiplatelets_use.replace(np.nan, 0)\n",
    "\n",
    "# drop unecessary columns\n",
    "merged_antiplatelets = merged_antiplatelets[[\"e_patid\", \"obsdate\", \"medicationdate\", \"antiplatelets_use\"]]\n",
    "\n",
    "# convert to datetime\n",
    "merged_antiplatelets['medicationdate'] = pd.to_datetime(merged_antiplatelets['medicationdate'], format = \"%d%b%Y\", errors = 'coerce')\n",
    "merged_antiplatelets['obsdate'] = pd.to_datetime(merged_antiplatelets['obsdate'])\n",
    "\n",
    "# keep earliest instance of antiplatelets use (bc it is about 'use - yes/no')\n",
    "merged_antiplatelets = merged_antiplatelets.sort_values([\"e_patid\", \"medicationdate\"]) # sort values based on patient ID and obsdate\n",
    "merged_antiplatelets = merged_antiplatelets.drop_duplicates(subset=['e_patid'], keep='first')\n",
    "\n",
    "# Vectorized update of 'antiplatelets_use' column\n",
    "merged_antiplatelets['antiplatelets_use'] = ((merged_antiplatelets['antiplatelets_use'] == 1) & \n",
    "                                             (merged_antiplatelets['medicationdate'] <= merged_antiplatelets['obsdate'])).astype(int)\n",
    "\n",
    "# Set value to 0 using boolean indexing\n",
    "merged_antiplatelets.loc[~((merged_antiplatelets['antiplatelets_use'] == 1) & \n",
    "                           (merged_antiplatelets['medicationdate'] <= merged_antiplatelets['obsdate'])), \n",
    "                        'antiplatelets_use'] = 0\n",
    "\n",
    "# keep relevant columns\n",
    "merged_antiplatelets = merged_antiplatelets[[\"e_patid\", \"obsdate\", \"medicationdate\", \"antiplatelets_use\"]]\n",
    "\n",
    "# save \n",
    "DIR = 'cleaned_files\\\\Closest'\n",
    "os.chdir(DIR)\n",
    "merged_antiplatelets.to_csv('antiplatelets_no_duplicates_merged.csv')"
   ]
  }
 ],
 "metadata": {
  "kernelspec": {
   "display_name": "Python 3 (ipykernel)",
   "language": "python",
   "name": "python3"
  },
  "language_info": {
   "codemirror_mode": {
    "name": "ipython",
    "version": 3
   },
   "file_extension": ".py",
   "mimetype": "text/x-python",
   "name": "python",
   "nbconvert_exporter": "python",
   "pygments_lexer": "ipython3",
   "version": "3.9.12"
  }
 },
 "nbformat": 4,
 "nbformat_minor": 5
}
