{
 "cells": [
  {
   "cell_type": "code",
   "execution_count": null,
   "id": "01f12f58",
   "metadata": {},
   "outputs": [],
   "source": [
    "import fileinput\n",
    "import glob\n",
    "import pandas as pd\n",
    "import numpy as np\n",
    "import os\n",
    "from datetime import datetime\n",
    "from datetime import timedelta"
   ]
  },
  {
   "cell_type": "markdown",
   "id": "651c4ce2",
   "metadata": {},
   "source": [
    "### Load in the data"
   ]
  },
  {
   "cell_type": "code",
   "execution_count": null,
   "id": "e444f3ac",
   "metadata": {},
   "outputs": [],
   "source": [
    "# load the alcohol data!\n",
    "DIR = \"cleaned_files\"\n",
    "os.chdir(DIR)\n",
    "alcohol = pd.read_csv(\"alcohol.csv\")\n",
    "\n",
    "# load in outcome data\n",
    "DIR = \"cleaned_files\"\n",
    "os.chdir(DIR)\n",
    "outcome = pd.read_csv('outcomes.csv')\n",
    "outcome = outcome[[\"e_patid\", \"obsdate\"]]\n",
    "\n",
    "# keep only relevant rows of both data frames\n",
    "alcohol = alcohol[[\"e_patid\", \"term\", \"alcohol_status\", \"measuredate\"]]\n",
    "\n",
    "# Merge the data frames on patient id\n",
    "merged = pd.merge(outcome, alcohol, on = \"e_patid\")\n",
    "\n",
    "# Convert the date columns to datetime objects\n",
    "merged[\"obsdate\"] = pd.to_datetime(merged[\"obsdate\"])\n",
    "merged[\"measuredate\"] = pd.to_datetime(merged[\"measuredate\"], errors = \"coerce\")\n",
    "\n",
    "# Sort the data by patient id and date of weight measurement\n",
    "merged = merged.sort_values([\"e_patid\", \"measuredate\"])"
   ]
  },
  {
   "cell_type": "markdown",
   "id": "24ca2b9e",
   "metadata": {},
   "source": [
    "### Try different fixed time windows to assess % missingness"
   ]
  },
  {
   "cell_type": "code",
   "execution_count": null,
   "id": "1e5403e3",
   "metadata": {},
   "outputs": [],
   "source": [
    "DIR = 'cleaned_files'\n",
    "os.chdir(DIR)\n",
    "\n",
    "# Sort by patient ID and measurement date\n",
    "merged = merged.sort_values(['e_patid', 'measuredate'])\n",
    "\n",
    "# Create empty dictionary to store data frames for different time windows\n",
    "dfs = {}\n",
    "\n",
    "# Loop over different time windows\n",
    "for time_window in [1, 2, 3, 4, 5, 10]:\n",
    "\n",
    "    # Create a copy of the data frame for the current time window\n",
    "    merged_window = merged.copy()\n",
    "\n",
    "    # Create a start date for the time window range (use obsdate as the end)\n",
    "    merged_window['date_start'] = pd.to_datetime(merged_window['obsdate']) - pd.DateOffset(years=time_window)\n",
    "    \n",
    "    # Ensure the other dates are in valid datetime format\n",
    "    merged_window['measuredate'] = pd.to_datetime(merged_window['measuredate'], errors = 'coerce') \n",
    "    merged_window['obsdate'] = pd.to_datetime(merged_window['obsdate'])\n",
    "\n",
    "    # Get T/F array of values that are in the timeframe (T) and that are not (F)\n",
    "    is_between_dates = (merged_window['measuredate'] >= merged_window['date_start']) & (merged_window['measuredate'] <= merged_window['obsdate'])\n",
    "\n",
    "    # Set values outside this valid window to NaN (because they are missing if they are not in the window!)\n",
    "    merged_window.loc[~is_between_dates, 'alcohol_status'] = np.nan\n",
    "    \n",
    "    # Drop duplicates (if duplicate, keep the one closest to obsdate)\n",
    "    merged_window = merged_window.sort_values(['e_patid', 'measuredate'])\n",
    "    merged_window['days_diff'] = abs(merged_window['measuredate'] - merged_window['obsdate']).dt.days\n",
    "    merged_window = merged_window.sort_values(['e_patid', 'obsdate', 'days_diff'], ascending=[True, True, True])\n",
    "    merged_window = merged_window.drop_duplicates(subset=['e_patid'], keep='first')\n",
    "    \n",
    "    # Only keep relevant columns\n",
    "    merged_window = merged_window[[\"e_patid\", \"term\", \"alcohol_status\", \"measuredate\"]]\n",
    "    merged_outcome = pd.merge(outcome, merged_window, on = 'e_patid', how = 'left')\n",
    "\n",
    "    # Save data frame to dictionary\n",
    "    dfs[f\"{time_window}yr\"] = merged_outcome[['e_patid', 'obsdate', 'alcohol_status', 'term']]\n",
    "\n",
    "# Save data frames to CSV files in separate folders\n",
    "for folder_name, df in dfs.items():\n",
    "    df.to_csv(os.path.join(folder_name, 'alcohol_no_duplicates_merged.csv'), index=False)"
   ]
  },
  {
   "cell_type": "markdown",
   "id": "8ced12ce",
   "metadata": {},
   "source": [
    "### Now try closest measurement to index date to assess % missingness"
   ]
  },
  {
   "cell_type": "code",
   "execution_count": null,
   "id": "ad37255c",
   "metadata": {},
   "outputs": [],
   "source": [
    "# try to see what closest measuredate before obsdate is in terms of missing values\n",
    "merged = merged.sort_values(['e_patid', 'measuredate'])\n",
    "\n",
    "merged_window = merged.copy()\n",
    "\n",
    "# Get T/F array of values that are in the timeframe (T) and that are not (F)\n",
    "is_between_dates = (merged_window['measuredate'] <= merged_window['obsdate'])\n",
    "\n",
    "# Set values outside this valid window to NaN (because they are missing if they are not in the window!)\n",
    "merged_window.loc[~is_between_dates, 'alcohol_status'] = np.nan\n",
    "\n",
    "# Drop duplicates\n",
    "merged_window['days_diff'] = abs(merged_window['measuredate'] - merged_window['obsdate']).dt.days\n",
    "merged_window = merged_window.sort_values(['e_patid', 'obsdate', 'days_diff'], ascending = [True, True, True])\n",
    "merged_window = merged_window.drop_duplicates(subset = ['e_patid'], keep = 'first')\n",
    "\n",
    "merged_window = merged_window[[\"e_patid\", \"term\", \"alcohol_status\", \"measuredate\"]]\n",
    "merged_outcome = pd.merge(outcome, merged_window, on = 'e_patid', how = 'left')\n",
    "\n",
    "DIR = 'cleaned_files\\\\Closest'\n",
    "os.chdir(DIR)\n",
    "\n",
    "merged_outcome.to_csv('alcohol_status_no_duplicates_merged.csv', index = False)\n",
    "\n",
    "merged_outcome['alcohol_status'].isna().sum()"
   ]
  },
  {
   "cell_type": "markdown",
   "id": "da43a87c",
   "metadata": {},
   "source": [
    "### Reduce missingness for alcohol by categorizing terms"
   ]
  },
  {
   "cell_type": "code",
   "execution_count": null,
   "id": "7fb113d1",
   "metadata": {},
   "outputs": [],
   "source": [
    "# get information about which patients have a missing alcohol status\n",
    "alcohol_comp = merged_outcome[merged_outcome['alcohol_status'].isna()].e_patid\n",
    "alcohol_comp = alcohol_comp.to_frame()\n",
    "\n",
    "# get data frame with missing data\n",
    "alcohol_null = alcohol[alcohol['e_patid'].isin(alcohol_comp['e_patid'])]\n",
    "\n",
    "# based on term, create sub-frame of patient IDs that you will later index merged_outcome with \n",
    "alcohol_null_0 = alcohol_null[(alcohol_null.term == 'Non-drinker alcohol') | (alcohol_null.term == 'Non-drinker') | (alcohol_null.term == 'Non drinker alcohol')].e_patid\n",
    "alcohol_null_1 = alcohol_null[(alcohol_null.term ==  'Social drinker') | (alcohol_null.term == 'Drinks rarely') | (alcohol_null.term ==  'Alcohol consumption') | (alcohol_null.term == 'Occasional drinker') | (alcohol_null.term == \"Alcohol consumption NOS\") | (alcohol_null.term == 'Beer drinker') | (alcohol_null.term == 'Alcohol intake within recommended sensible limits') | (alcohol_null.term == 'Drinks wine') | (alcohol_null.term == 'Alcohol units consumed per week') | (alcohol_null.term ==  'Light drinker') | (alcohol_null.term == 'Ex-trivial drinker (<1u/day)') | (alcohol_null.term == \"Ex-light drinker - (1-2u/day)\") | (alcohol_null.term == 'Drinks beer and spirits') | (alcohol_null.term == 'Spirit drinker')].e_patid       \n",
    "alcohol_null_2 = alcohol_null[(alcohol_null.term == 'Binge drinker') | (alcohol_null.term == 'Heavy drinker') | (alcohol_null.term == 'Alcoholism') | ( alcohol_null.term == \"Beer drinker\") | (alcohol_null.term == \"Alcohol problem drinking\") | (alcohol_null.term =='Under care of community alcohol team') | (alcohol_null.term == 'Alcoholic cirrhosis of liver') | (alcohol_null.term == 'Alcohol dependence syndrome') | (alcohol_null.term =='Alcoholic liver damage') | (alcohol_null.term == 'Alcohol abuse') | (alcohol_null.term == 'Alcohol withdrawal-induced seizure') | (alcohol_null.term == 'Alcohol-induced chronic pancreatitis') | (alcohol_null.term == 'Other alcoholic psychosis') | (alcohol_null.term == 'Hazardous alcohol use') | (alcohol_null.term == 'Alcohol withdrawal syndrome') | (alcohol_null.term == 'Admitted to alcohol detoxification centre') | (alcohol_null.term == 'Alcoholic fatty liver') | (alcohol_null.term == 'Ex-moderate drinker - (3-6u/d)') | (alcohol_null.term == 'Moderate drinker') | (alcohol_null.term == 'Alcohol misuse') | (alcohol_null.term == \"Korsakoff's psychosis\") | (alcohol_null.term == 'Alcohol intake above recommended sensible limits') | (alcohol_null.term == 'Acute alcoholic hepatitis') | (alcohol_null.term == 'Chronic alcoholism NOS') | (alcohol_null.term == 'Alcohol dependence') | (alcohol_null.term == 'Alcohol induced hallucinations') | (alcohol_null.term == 'Chronic alcoholism') | (alcohol_null.term == 'Harmful alcohol user') | (alcohol_null.term == 'Alcohol dependence syndrome NOS') | (alcohol_null.term ==  'Alcoholic cardiomyopathy') | (alcohol_null.term == 'Increasing risk drinking') | (alcohol_null.term == 'Ex-very heavy drinker-(>9u/d)') | (alcohol_null.term == 'Alcohol-induced organic mental disorder') | (alcohol_null.term == 'Referral to specialist alcohol treatment service') | (alcohol_null.term == '[X]Chronic alcoholism') | (alcohol_null.term == 'Alcoholic encephalopathy') | (alcohol_null.term == 'Alcohol abuse monitoring') | (alcohol_null.term == 'Very heavy drinker') | (alcohol_null.term == 'Acute alcoholic intoxication in alcoholism') | (alcohol_null.term == 'Korsakov alcoholic psychosis') | (alcohol_null.term == 'Ex-heavy drinker - (7-9u/day)') | (alcohol_null.term == 'Continuous chronic alcoholism') | (alcohol_null.term == 'Other alcoholic dementia') | (alcohol_null.term == 'Wernicke-Korsakov syndrome') | (alcohol_null.term == 'Alcoholic hepatitis') | (alcohol_null.term == 'Alcoholic dementia') | (alcohol_null.term ==  'Alcohol detoxification') | (alcohol_null.term == '[X]Delirium tremens, alcohol induced') | (alcohol_null.term == 'Declines to state current alcohol consumption') | (alcohol_null.term == 'Alcohol-induced polyneuropathy') | (alcohol_null.term == 'Declined referral to specialist alcohol treatment service') | (alcohol_null.term == '[X]Alcohol addiction') | (alcohol_null.term == 'Continuous acute alcoholic intoxication in alcoholism') | (alcohol_null.term == 'Number of alcohol units consumed on heaviest drinking day') | (alcohol_null.term == 'Alcohol-induced psychosis') | (alcohol_null.term == '[X]Mental and behav dis due to use alcohol: dependence syndr') | (alcohol_null.term == 'Alcohol myopathy') | (alcohol_null.term == 'Cerebellar ataxis due to alcoholism') | (alcohol_null.term == 'Alcohol withdrawal hallucinosis') | (alcohol_null.term == 'Chronic alcoholic brain syndrome') | (alcohol_null.term == '[X]Alcoholic dementia NOS') | (alcohol_null.term ==  'Episodic chronic alcoholism') | (alcohol_null.term == 'Chronic alcoholism in remission') | (alcohol_null.term == \"Korskov's alcoholic psychosis with peripheral neuritis\") | (alcohol_null.term == \"Alcohol-induced psychosis\") | (alcohol_null.term == '[X]Mental and behav dis due to use alcohol: dependence syndr') | (alcohol_null.term == 'Alcohol myopathy') | (alcohol_null.term == 'Cerebellar ataxia due to alcoholism') | (alcohol_null.term == 'Alcohol withdrawal hallucinosis') | (alcohol_null.term == 'Chronic alcoholic brain syndrome') | (alcohol_null.term == '[X]Alcoholic dementia NOS') | (alcohol_null.term == 'Episodic chronic alcoholism') | (alcohol_null.term == 'Chronic alcoholism in remission') | (alcohol_null.term == \"Korsakov's alcoholic psychosis with peripheral neuritis\") | (alcohol_null.term == '[X]Chronic alcoholic brain syndrome') | (alcohol_null.term == 'Alcohol withdrawal delirium') | (alcohol_null.term == 'Acute alcoholic intoxication in alcoholism NOS') | (alcohol_null.term == '[V]Personal history of alcoholism') | (alcohol_null.term == 'Alcoholic hepatic failure') | (alcohol_null.term == 'Feels should cut down drinking') | (alcohol_null.term == 'Alcohol amnestic disorder') | (alcohol_null.term == 'Nondependent alcohol abuse in remission') | (alcohol_null.term == 'Advised to contact primary care alcohol worker' ) | (alcohol_null.term == 'Oesophageal varices in alcoholic cirrhosis of the liver') | (alcohol_null.term == 'Alcoholic psychosis NOS') | (alcohol_null.term == 'Pathological alcohol intoxication') | (alcohol_null.term == 'Alcoholic hallucinosis') | (alcohol_null.term == '[X]Ment & behav dis due use alcohol: unsp ment & behav dis') | (alcohol_null.term ==  'Alcohol-induced epilepsy') | (alcohol_null.term == '[X]Mental and behav dis due to use alcohol: withdrawal state') | (alcohol_null.term == 'Aversion therapy - alcoholism') | (alcohol_null.term == 'Acute alcoholic intoxication, unspecified, in alcoholism') | (alcohol_null.term == \"[X]Alcoholic psychosis NOS\") | (alcohol_null.term == 'Alcoholic paranoia') | (alcohol_null.term == 'Cerebral degeneration due to alcoholism') | (alcohol_null.term == 'Alcoholic fibrosis and sclerosis of liver') | (alcohol_null.term == '[X]Men & behav dis due to use alcohol: oth men & behav dis') | (alcohol_null.term == 'Alcohol amnestic syndrome NOS') | (alcohol_null.term == '[X]Men & behav dis due alcohl: withdrawl state with delirium') | (alcohol_null.term == 'Chronic alcoholic hepatitis') | (alcohol_null.term == 'Delivery of rehabilitation for alcohol addiction') | (alcohol_null.term == '[X]Alcoholic paranoia') | (alcohol_null.term == \"Alcohol-induced pseudo-Cushing's syndrome\") | (alcohol_null.term == 'Denatured alcohol causing toxic effect') | (alcohol_null.term == 'Episodic acute alcoholic intoxication in alcoholism') | (alcohol_null.term == 'Acute alcoholic intoxication in remission, in alcoholism') | (alcohol_null.term == 'Drinks in morning to get rid of hangover') | (alcohol_null.term == '[X]Men & behav dis due alcoh: resid & late-onset psychot dis') | (alcohol_null.term == 'Alcohol dependence with acute alcoholic intoxication') | (alcohol_null.term == 'Alcohol deterrent poisoning')].e_patid\n",
    "\n",
    "# now populate merged outcome accordingly\n",
    "merged_outcome.loc[merged_outcome['e_patid'].isin(alcohol_null_0), 'alcohol_status'] = 0\n",
    "merged_outcome.loc[merged_outcome['e_patid'].isin(alcohol_null_1), 'alcohol_status'] = 1\n",
    "merged_outcome.loc[merged_outcome['e_patid'].isin(alcohol_null_2), 'alcohol_status'] = 2\n",
    "\n",
    "# now assume that the rest of patients without a recorded value for alcohol fall into between 0 and 10 units pw\n",
    "merged_outcome.loc[merged_outcome['alcohol_status'].isna(), 'alcohol_status'] = 1\n",
    "\n",
    "# save file under new file name (so we still have old version, if needed)\n",
    "DIR = 'cleaned_files\\\\Closest'\n",
    "os.chdir(DIR)\n",
    "\n",
    "merged_outcome.to_csv('alcohol_status_no_duplicates_merged_REDUCED.csv', index = False)"
   ]
  }
 ],
 "metadata": {
  "kernelspec": {
   "display_name": "Python 3 (ipykernel)",
   "language": "python",
   "name": "python3"
  },
  "language_info": {
   "codemirror_mode": {
    "name": "ipython",
    "version": 3
   },
   "file_extension": ".py",
   "mimetype": "text/x-python",
   "name": "python",
   "nbconvert_exporter": "python",
   "pygments_lexer": "ipython3",
   "version": "3.9.12"
  }
 },
 "nbformat": 4,
 "nbformat_minor": 5
}
