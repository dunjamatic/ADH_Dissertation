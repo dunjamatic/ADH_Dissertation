{
 "cells": [
  {
   "cell_type": "code",
   "execution_count": null,
   "id": "e497a6a9",
   "metadata": {},
   "outputs": [],
   "source": [
    "import fileinput\n",
    "import glob\n",
    "import pandas as pd\n",
    "import numpy as np\n",
    "import os\n",
    "from datetime import datetime\n",
    "from datetime import timedelta"
   ]
  },
  {
   "cell_type": "markdown",
   "id": "df515dbb",
   "metadata": {},
   "source": [
    "### Load final data"
   ]
  },
  {
   "cell_type": "code",
   "execution_count": null,
   "id": "0246ec6c",
   "metadata": {},
   "outputs": [],
   "source": [
    "merged_totalModel = pd.read_csv(\"final\\\\merged_totalModel_FINAL.csv\")"
   ]
  },
  {
   "cell_type": "markdown",
   "id": "862fd636",
   "metadata": {},
   "source": [
    "### 0. For imputation"
   ]
  },
  {
   "cell_type": "code",
   "execution_count": null,
   "id": "4c2cac09",
   "metadata": {},
   "outputs": [],
   "source": [
    "merged_totalModel[\"gen_ethnicity\"] = merged_totalModel[\"gen_ethnicity\"].astype('category')\n",
    "merged_totalModel[\"ethnicity_encoded\"] = merged_totalModel[\"gen_ethnicity\"].cat.codes\n",
    "\n",
    "# Reorder columns (and only the ones that will be used for imputation)\n",
    "merged_totalModel = merged_totalModel[['e_patid', 'baseline_age', 'followup_age', 'followup_time', 'gender_encoded', 'gen_ethnicity', 'ethnicity_encoded',\n",
    "                                       'townsend', 'height (cm)', 'weight (kg)', 'alcohol_status', 'smoking_status',\n",
    "                                       'diabetes_status', 'antiplatelets_use', 'crp value (mg/L)', 'total_outcomes']]\n",
    "\n",
    "# look at which encoded value corresponds to which original value\n",
    "ethnicity_codes_totalModel = dict( enumerate(merged_totalModel['gen_ethnicity'].cat.categories ) )\n",
    "\n",
    "# Only keep encoded ethnicities\n",
    "merged_totalModel = merged_totalModel[['e_patid', 'baseline_age', 'followup_age', 'followup_time', 'gender_encoded', 'ethnicity_encoded',\n",
    "                                       'townsend', 'height (cm)', 'weight (kg)', 'alcohol_status', 'smoking_status',\n",
    "                                       'diabetes_status', 'antiplatelets_use', 'crp value (mg/L)', 'total_outcomes']]\n",
    "\n",
    "# convert unnecessary floats to ints!\n",
    "merged_totalModel['gender_encoded'] = merged_totalModel['gender_encoded'].astype(np.int64)\n",
    "merged_totalModel['townsend'] = merged_totalModel['townsend'].astype(np.int64)\n",
    "merged_totalModel['alcohol_status'] = merged_totalModel['alcohol_status'].astype(np.int64)\n",
    "merged_totalModel['smoking_status'] = merged_totalModel['smoking_status'].astype(np.int64)\n",
    "merged_totalModel['total_outcomes'] = merged_totalModel['total_outcomes'].astype(np.int64)\n",
    "\n",
    "# save file\n",
    "merged_totalModel.to_csv('final\\\\0. Imputation\\\\imputation_totalModel.csv', index = False)"
   ]
  },
  {
   "cell_type": "markdown",
   "id": "448735d7",
   "metadata": {},
   "source": [
    "### 1. Create final versions for Aim 1: comparing FG performance in Netherlands vs. UK population"
   ]
  },
  {
   "cell_type": "code",
   "execution_count": null,
   "id": "900406da",
   "metadata": {},
   "outputs": [],
   "source": [
    "# output of imputation!"
   ]
  },
  {
   "cell_type": "markdown",
   "id": "40276635",
   "metadata": {},
   "source": [
    "### 2. Create final versions for Aim 2: comparing stats to ML"
   ]
  },
  {
   "cell_type": "markdown",
   "id": "4900c3c7",
   "metadata": {},
   "source": [
    "### 2a. FG to compare to ML"
   ]
  },
  {
   "cell_type": "markdown",
   "id": "6e8cc3e8",
   "metadata": {},
   "source": [
    "##### a. change outcomes to reflect what happens to the patient at the 10 year follow up time point\n",
    "##### b. alter follow up time and follow up age to reflect the new 10 year time frame being undertaken \n",
    "##### c. split data into training and testing (do cases and controls separately and then merge to maintain equal case-control balance across train-test)"
   ]
  },
  {
   "cell_type": "code",
   "execution_count": null,
   "id": "a6d53fd2",
   "metadata": {},
   "outputs": [],
   "source": [
    "### Add ihd_diagdate, cancerdate, and deathdate to be able to determine 10 year outcome and 10 year followup age/time\n",
    "merged_totalModel = pd.merge(merged_totalModel, adding_ft_total[['e_patid', 'ihd_diagdate', 'cancerdate', 'deathdate']], on='e_patid', how='left')\n",
    "\n",
    "merged_totalModel.rename(columns={\"height..cm.\": \"height (cm)\", \"weight..kg.\": \"weight (kg)\", \"crp.value..mg.L.\" : \"crp value (mg/L)\"}, inplace = True)\n",
    "\n",
    "# re-order the columns \n",
    "merged_totalModel = merged_totalModel[['e_patid', 'ihd_diagdate', 'cancerdate', 'deathdate', 'baseline_age', 'followup_age', \n",
    "                                       'followup_time', 'gender_encoded', 'ethnicity_encoded',\n",
    "                                       'townsend', 'height (cm)', 'weight (kg)', 'alcohol_status', 'smoking_status',\n",
    "                                       'diabetes_status', 'antiplatelets_use', 'crp value (mg/L)', 'total_outcomes']]\n",
    "\n",
    "\n",
    "\n",
    "### Change outcomes to reflect 10 year outcome \n",
    "# convert relevant date columns to datetime type if they are not already\n",
    "merged_totalModel['ihd_diagdate'] = pd.to_datetime(merged_totalModel['ihd_diagdate'])\n",
    "merged_totalModel['cancerdate'] = pd.to_datetime(merged_totalModel['cancerdate'])\n",
    "merged_totalModel['deathdate'] = pd.to_datetime(merged_totalModel['deathdate'])\n",
    "\n",
    "# define the duration for outcomes after ihd_diagdate (10 years)\n",
    "outcome_duration = timedelta(days=365 * 10)\n",
    "\n",
    "# update the 'total_outcomes' column based on the specified conditions\n",
    "merged_totalModel['total_outcomes'] = 0  # Initialize with 0 for all rows\n",
    "\n",
    "# update with value 1 if cancerdate happens within 10 years after ihd_diagdate\n",
    "merged_totalModel.loc[(merged_totalModel['cancerdate'] <= merged_totalModel['ihd_diagdate'] + outcome_duration) &\n",
    "                     (merged_totalModel['cancerdate'].notnull()), 'total_outcomes'] = 1\n",
    "\n",
    "# update with value 2 if deathdate happens before ihd_diagdate + 10 years\n",
    "merged_totalModel.loc[(merged_totalModel['deathdate'] <= merged_totalModel['ihd_diagdate'] + outcome_duration) &\n",
    "                     (merged_totalModel['deathdate'].notnull()) & (merged_totalModel['total_outcomes'] == 0), 'total_outcomes'] = 2\n",
    "\n",
    "\n",
    "\n",
    "### Change follow up time and follow up to reflect the new 10 year follow up timeline \n",
    "# create a new column 'followup_enddate' based on the conditions: if outcomes is 0 make followup_enddate ihd_diagnosis + 10, if 1 make it cancerdate, if 2 make it deathdate\n",
    "merged_totalModel['followup_enddate'] = merged_totalModel['ihd_diagdate'] + timedelta(days = 365*10)\n",
    "merged_totalModel.loc[(merged_totalModel['total_outcomes'] == 1), 'followup_enddate'] = merged_totalModel['cancerdate']\n",
    "merged_totalModel.loc[(merged_totalModel['total_outcomes'] == 2), 'followup_enddate'] = merged_totalModel['deathdate']\n",
    "\n",
    "# set relevant columns as datetime objects\n",
    "merged_totalModel['followup_enddate'] = pd.to_datetime(merged_totalModel['followup_enddate'], errors = 'coerce')\n",
    "merged_totalModel['ihd_diagdate'] = pd.to_datetime(merged_totalModel['ihd_diagdate'], errors = 'coerce')\n",
    "\n",
    "# compute follow up time \n",
    "merged_totalModel['followup_time'] = (merged_totalModel['followup_enddate'].dt.year - merged_totalModel['ihd_diagdate'].dt.year)\n",
    "\n",
    "# compute follow up age \n",
    "merged_totalModel['followup_age'] = merged_totalModel['baseline_age'] + merged_totalModel['followup_time']\n",
    "\n",
    "# reorder columns\n",
    "merged_totalModel = merged_totalModel[['e_patid', 'baseline_age', 'followup_age', 'followup_time', 'gender_encoded',\n",
    "                     'ethnicity_encoded', 'townsend', 'height (cm)', 'weight (kg)', 'alcohol_status', \n",
    "                     'smoking_status','diabetes_status', 'antiplatelets_use', 'crp value (mg/L)', 'total_outcomes']]\n",
    "\n",
    "\n",
    "\n",
    "### Perform 80-20 split for cases and controls \n",
    "# split into cases and controls\n",
    "merged_totalModel_cases = merged_totalModel[merged_totalModel[\"total_outcomes\"] == 1]\n",
    "merged_totalModel_controls = merged_totalModel[(merged_totalModel[\"total_outcomes\"] == 0) | (merged_totalModel[\"total_outcomes\"] == 2)]\n",
    "\n",
    "# randomly split each of these into 90% for training and 10% for testing \n",
    "merged_totalModel_casesTraining = merged_totalModel_cases.sample(frac = 0.9)\n",
    "merged_totalModel_casesTesting = merged_totalModel_cases.drop(merged_totalModel_casesTraining.index)\n",
    "merged_totalModel_controlsTraining = merged_totalModel_controls.sample(frac = 0.9)\n",
    "merged_totalModel_controlsTesting = merged_totalModel_controls.drop(merged_totalModel_controlsTraining.index)\n",
    " \n",
    "# merge training controls/cases and merge testing controls/cases\n",
    "merged_totalModel_Training = pd.concat([merged_totalModel_casesTraining, merged_totalModel_controlsTraining])\n",
    "merged_totalModel_Testing = pd.concat([merged_totalModel_casesTesting, merged_totalModel_controlsTesting])\n",
    "\n",
    "\n",
    "### Save the files!\n",
    "merged_totalModel_Training.to_csv('final\\\\2a. Compare FG to ML\\\\FGTraining_totalModel.csv', index = False)\n",
    "merged_totalModel_Testing.to_csv('final\\\\2a. Compare FG to ML\\\\FGTesting_totalModel.csv', index = False)"
   ]
  },
  {
   "cell_type": "markdown",
   "id": "5770b73a",
   "metadata": {},
   "source": [
    "### 2b. Cox (to compare competing risks), LR, and xGB "
   ]
  },
  {
   "cell_type": "markdown",
   "id": "739a1e59",
   "metadata": {},
   "source": [
    "###### cut data at 10 years, binary outcome, split data 80-20"
   ]
  },
  {
   "cell_type": "code",
   "execution_count": null,
   "id": "435c3b9c",
   "metadata": {},
   "outputs": [],
   "source": [
    "# TOTAL MODEL\n",
    "# load in the FG 10-year cut off data that will be edited\n",
    "CoxMLTraining_totalModel = pd.read_csv('final\\\\2a. Compare FG to ML\\\\FGTraining_totalModel.csv')\n",
    "CoxMLTesting_totalModel = pd.read_csv('final\\\\2a. Compare FG to ML\\\\FGTesting_totalModel.csv')\n",
    "\n",
    "# change outcomes labelled \"2\" to a label of \"0\" so we end up with a binary 0 (no cancer) and 1 (cancer)\n",
    "CoxMLTraining_totalModel.loc[(CoxMLTraining_totalModel['total_outcomes'] == 2), 'total_outcomes'] = 0\n",
    "CoxMLTesting_totalModel.loc[(CoxMLTesting_totalModel['total_outcomes'] == 2), 'total_outcomes'] = 0\n",
    "\n",
    "# save the data\n",
    "CoxMLTraining_totalModel.to_csv('final\\\\2b. Compare Cox, ML\\\\CoxMLTraining_totalModel.csv', index = False)\n",
    "CoxMLTesting_totalModel.to_csv('final\\\\2b. Compare Cox, ML\\\\CoxMLTesting_totalModel.csv', index = False)"
   ]
  }
 ],
 "metadata": {
  "kernelspec": {
   "display_name": "Python 3 (ipykernel)",
   "language": "python",
   "name": "python3"
  },
  "language_info": {
   "codemirror_mode": {
    "name": "ipython",
    "version": 3
   },
   "file_extension": ".py",
   "mimetype": "text/x-python",
   "name": "python",
   "nbconvert_exporter": "python",
   "pygments_lexer": "ipython3",
   "version": "3.9.12"
  }
 },
 "nbformat": 4,
 "nbformat_minor": 5
}
