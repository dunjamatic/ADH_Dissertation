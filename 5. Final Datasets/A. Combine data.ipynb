{
 "cells": [
  {
   "cell_type": "code",
   "execution_count": null,
   "id": "d42b8330",
   "metadata": {},
   "outputs": [],
   "source": [
    "import fileinput\n",
    "import glob\n",
    "import pandas as pd\n",
    "import numpy as np\n",
    "import os\n",
    "from datetime import datetime\n",
    "from datetime import timedelta"
   ]
  },
  {
   "cell_type": "markdown",
   "id": "426594f7",
   "metadata": {},
   "source": [
    "# Combine Data"
   ]
  },
  {
   "cell_type": "markdown",
   "id": "9af39f8b",
   "metadata": {},
   "source": [
    "### Load data"
   ]
  },
  {
   "cell_type": "code",
   "execution_count": null,
   "id": "7e6ca697",
   "metadata": {},
   "outputs": [],
   "source": [
    "# load all relevant data in\n",
    "DIR = \"cleaned_files\\\\Closest\"\n",
    "os.chdir(DIR)\n",
    "\n",
    "# load outcomes\n",
    "total_outcomes = pd.read_csv('outcomes.csv')\n",
    "\n",
    "# load predictors (change file names as needed)\n",
    "age = pd.read_csv('age_no_duplicates_merged.csv')\n",
    "alcohol = pd.read_csv('alcohol_status_no_duplicates_merged_REDUCED.csv')\n",
    "antiplatelets = pd.read_csv('antiplatelets_no_duplicates_merged.csv')\n",
    "crp = pd.read_csv('crp_no_duplicates_merged.csv')\n",
    "diabetes = pd.read_csv('diabetes_no_duplicates_merged.csv')\n",
    "ethnicity = pd.read_csv('ethnicity_no_duplicates_merged.csv')\n",
    "height = pd.read_csv('height_no_duplicates_merged.csv')\n",
    "sex = pd.read_csv('sex_no_duplicates_merged.csv')\n",
    "smoking = pd.read_csv('smoking_status_no_duplicates_merged_REDUCED.csv')\n",
    "townsend = pd.read_csv('townsend_no_duplicates_merged.csv')\n",
    "weight = pd.read_csv('weight_no_duplicates_merged.csv')\n",
    "\n",
    "# ensure to keep only relevant columns and rename any ambiguous sounding columns\n",
    "total_outcomes.rename(columns = {\"outcome\": \"total_outcomes\"}, inplace = True)\n",
    "total_outcomes = total_outcomes[[\"e_patid\", \"obsdate\", \"deathdate\", \"total_outcomes\"]]\n",
    "\n",
    "colorectal_outcomes.rename(columns = {\"outcome\": \"colorectal_outcomes\"}, inplace = True)\n",
    "colorectal_outcomes = colorectal_outcomes[[\"e_patid\", \"obsdate\", \"deathdate\", \"colorectal_outcomes\"]]\n",
    "\n",
    "lung_outcomes.rename(columns = {\"outcome\": \"lung_outcomes\"}, inplace = True)\n",
    "lung_outcomes = lung_outcomes[[\"e_patid\", \"obsdate\", \"deathdate\", \"lung_outcomes\"]]\n",
    "\n",
    "age = age[[\"e_patid\", \"yob\", \"baseline_age\"]]\n",
    "alcohol = alcohol[[\"e_patid\", \"alcohol_status\"]]\n",
    "antiplatelets = antiplatelets[[\"e_patid\", \"antiplatelets_use\"]]\n",
    "crp = crp[[\"e_patid\", \"crp value (mg/L)\"]]\n",
    "diabetes = diabetes[[\"e_patid\", \"diabetes_status\"]]\n",
    "ethnicity = ethnicity[[\"e_patid\", \"gen_ethnicity\"]]\n",
    "height = height[[\"e_patid\", \"height (cm)\"]]\n",
    "sex = sex[[\"e_patid\", \"gender_encoded\"]]\n",
    "smoking = smoking[[\"e_patid\", \"smoking_status\"]]\n",
    "townsend = townsend[[\"e_patid\", \"townsend\"]]\n",
    "weight = weight[[\"e_patid\", \"weight (kg)\"]]"
   ]
  },
  {
   "cell_type": "markdown",
   "id": "9deed7e8",
   "metadata": {},
   "source": [
    "### Merge data to make the total cancer dataframe"
   ]
  },
  {
   "cell_type": "code",
   "execution_count": null,
   "id": "3717d65c",
   "metadata": {},
   "outputs": [],
   "source": [
    "# create a list of the dataframes\n",
    "dfs_total = [total_outcomes, age, alcohol, antiplatelets, crp, diabetes, ethnicity, height, sex, smoking, townsend, weight]\n",
    "\n",
    "# set the common column name\n",
    "common_col = 'e_patid'\n",
    "\n",
    "# create an empty dataframe to merge the dataframes into\n",
    "merged_totalModel = pd.DataFrame()\n",
    "\n",
    "# loop over the list of dataframes and merge them one by one\n",
    "for df in dfs_total:\n",
    "    if merged_totalModel.empty:\n",
    "        merged_totalModel = df.copy()\n",
    "    else:\n",
    "        merged_totalModel = pd.merge(merged_totalModel, df, on = common_col)\n",
    "        \n",
    "# change the column order (info first 4 rows, predictors next 11, outcome as last)\n",
    "merged_totalModel = merged_totalModel[['e_patid', 'obsdate', 'deathdate', 'yob', 'baseline_age', 'gender_encoded', 'gen_ethnicity', 'townsend', 'height (cm)', 'weight (kg)', 'alcohol_status', 'smoking_status', 'diabetes_status', 'antiplatelets_use', 'crp value (mg/L)', 'total_outcomes']]\n",
    "        \n",
    "# drop rows where age is beyond range of 45-80 years \n",
    "merged_totalModel = merged_totalModel.drop(merged_totalModel[(merged_totalModel['baseline_age'] < 45) | (merged_totalModel['baseline_age'] > 80)].index)\n",
    "\n",
    "# drop rows where sex is missing\n",
    "merged_totalModel = merged_totalModel.drop(merged_totalModel[merged_totalModel.gender_encoded.isna()].index)\n",
    "\n",
    "# drop tows where Townsend is missing \n",
    "merged_totalModel = merged_totalModel.drop(merged_totalModel[merged_totalModel.townsend.isna()].index)\n",
    "\n",
    "# save models pre-clipping outliers\n",
    "DIR = \"final\"\n",
    "os.chdir(DIR)\n",
    "\n",
    "merged_totalModel.to_csv('merged_totalModel.csv', index = False)"
   ]
  },
  {
   "cell_type": "markdown",
   "id": "8327c359",
   "metadata": {},
   "source": [
    "# Clip Continuous Data"
   ]
  },
  {
   "cell_type": "markdown",
   "id": "eb0cec0d",
   "metadata": {},
   "source": [
    "### Graph continuous variables to decide where to clip them"
   ]
  },
  {
   "cell_type": "code",
   "execution_count": null,
   "id": "e717c608",
   "metadata": {},
   "outputs": [],
   "source": [
    "# HEIGHT - distribution\n",
    "import seaborn as sns\n",
    "import matplotlib.pyplot as plt\n",
    "\n",
    "plt.figure(figsize=(10,6))\n",
    "sns.histplot(data=merged_totalModel, x='height (cm)')\n",
    "plt.title('Height Distribution')\n",
    "plt.xlabel('Height (cm)')\n",
    "plt.ylabel('Frequency')\n",
    "plt.xlim(0, 1000)\n",
    "\n",
    "plt.show()"
   ]
  },
  {
   "cell_type": "code",
   "execution_count": null,
   "id": "277929ea",
   "metadata": {},
   "outputs": [],
   "source": [
    "# HEIGHT - box plot\n",
    "import matplotlib.pyplot as plt\n",
    "import pandas as pd\n",
    "\n",
    "# Drop missing values in the 'height (cm)' column\n",
    "merged_totalModel_cleaned = merged_totalModel.dropna(subset=['height (cm)'])\n",
    "\n",
    "# Set figure dimensions\n",
    "plt.figure(figsize=(8, 10))\n",
    "\n",
    "# Create the boxplot using the cleaned DataFrame\n",
    "plt.boxplot(data=merged_totalModel_cleaned, x='height (cm)')\n",
    "\n",
    "# Add labels and title\n",
    "plt.xlabel('')\n",
    "plt.ylabel('Height (cm)')\n",
    "plt.title('Boxplot for Height')\n",
    "\n",
    "# Display the plot\n",
    "plt.show()"
   ]
  },
  {
   "cell_type": "code",
   "execution_count": null,
   "id": "537dee3c",
   "metadata": {},
   "outputs": [],
   "source": [
    "# WEIGHT - distribution\n",
    "import seaborn as sns\n",
    "import matplotlib.pyplot as plt\n",
    "\n",
    "plt.figure(figsize=(10,6))\n",
    "sns.histplot(data=merged_totalModel, x='weight (kg)')\n",
    "plt.title('Weight Distribution')\n",
    "plt.xlabel('Weight (kg)')\n",
    "plt.ylabel('Frequency')\n",
    "\n",
    "plt.show()"
   ]
  },
  {
   "cell_type": "code",
   "execution_count": null,
   "id": "6f592764",
   "metadata": {},
   "outputs": [],
   "source": [
    "# WEIGHT - boxplot\n",
    "import matplotlib.pyplot as plt\n",
    "import pandas as pd\n",
    "\n",
    "# Drop missing values in the 'height (cm)' column\n",
    "merged_totalModel_cleaned = merged_totalModel.dropna(subset=['weight (kg)'])\n",
    "\n",
    "# Set figure dimensions\n",
    "plt.figure(figsize=(8, 10))\n",
    "\n",
    "# Create the boxplot using the cleaned DataFrame\n",
    "plt.boxplot(data=merged_totalModel_cleaned, x='weight (kg)')\n",
    "\n",
    "# Add labels and title\n",
    "plt.xlabel('')\n",
    "plt.ylabel('Weight (kg)')\n",
    "plt.title('Boxplot for Weight')\n",
    "\n",
    "# Display the plot\n",
    "plt.show()"
   ]
  },
  {
   "cell_type": "code",
   "execution_count": null,
   "id": "f2c262ad",
   "metadata": {},
   "outputs": [],
   "source": [
    "# CRP - distribution\n",
    "import seaborn as sns\n",
    "import matplotlib.pyplot as plt\n",
    "\n",
    "plt.figure(figsize=(10,6))\n",
    "sns.histplot(data=merged_totalModel, x='crp value (mg/L)')\n",
    "plt.title('CRP Distribution')\n",
    "plt.xlabel('CRP Value (mg/L)')\n",
    "plt.ylabel('Frequency')\n",
    "\n",
    "plt.show()"
   ]
  },
  {
   "cell_type": "markdown",
   "id": "defedf6c",
   "metadata": {},
   "source": [
    "### Clip continuous data"
   ]
  },
  {
   "cell_type": "code",
   "execution_count": null,
   "id": "c876d80d",
   "metadata": {},
   "outputs": [],
   "source": [
    "model = merged_totalModel.copy()\n",
    "var = \"height (cm)\"\n",
    "q1, q99 = np.nanpercentile(model[var], [1,99])\n",
    "outliers = model.loc[(model[var] < q1) | (model[var] > q99)]"
   ]
  },
  {
   "cell_type": "code",
   "execution_count": null,
   "id": "1524e07e",
   "metadata": {},
   "outputs": [],
   "source": [
    "# Clip weight data at 30 and 140kg\n",
    "merged_totalModel['weight (kg)'] = np.where(merged_totalModel['weight (kg)'] > 140, 140, merged_totalModel['weight (kg)'])\n",
    "merged_totalModel['weight (kg)'] = np.where(merged_totalModel['weight (kg)'] < 30, 30, merged_totalModel['weight (kg)'])\n",
    "merged_totalModel.to_csv(\"final\\\\merged_totalModel_FINAL.csv\", index = False)\n",
    "\n",
    "# Clip height data at 120cm and 200cm \n",
    "merged_totalModel['height (cm)'] = np.where(merged_totalModel['height (cm)'] > 200, 200, merged_totalModel['height (cm)'])\n",
    "merged_totalModel['height (cm)'] = np.where(merged_totalModel['height (cm)'] < 120, 120, merged_totalModel['height (cm)'])\n",
    "merged_totalModel.to_csv(\"final\\\\merged_totalModel_FINAL.csv\", index = False)\n",
    "\n",
    "# Clip CRP data at 500 \n",
    "merged_totalModel['crp value (mg/L)'] = np.where(merged_totalModel['crp value (mg/L)'] > 500, 500, merged_totalModel['crp value (mg/L)'])\n",
    "merged_totalModel.to_csv(\"final\\\\merged_totalModel_FINAL.csv\", index = False)"
   ]
  },
  {
   "cell_type": "markdown",
   "id": "c53dc989",
   "metadata": {},
   "source": [
    "# Add follow-up time and cancer diagnosis date"
   ]
  },
  {
   "cell_type": "code",
   "execution_count": null,
   "id": "da5246df",
   "metadata": {},
   "outputs": [],
   "source": [
    "# read in information on follow up in CPRD\n",
    "patinfo = pd.read_table(\"\") # get patient information \n",
    "\n",
    "# read in cancer info \n",
    "total_cancerinfo = pd.read_csv(\"total_cancer.csv\") # get cancer info"
   ]
  },
  {
   "cell_type": "markdown",
   "id": "e163b257",
   "metadata": {},
   "source": [
    "#### cancer diagnosis date"
   ]
  },
  {
   "cell_type": "code",
   "execution_count": null,
   "id": "bd582395",
   "metadata": {},
   "outputs": [],
   "source": [
    "# Append relevant information\n",
    "# add start and end to the model\n",
    "merged_totalModel = merged_totalModel.merge(patinfo[['e_patid', 'start', 'end']], on='e_patid', how='left')\n",
    "merged_totalModel = merged_totalModel.merge(total_cancerinfo[['e_patid', 'diagdate']], on = 'e_patid', how = 'left')\n",
    "\n",
    "# convert to datetime\n",
    "merged_totalModel['start'] = pd.to_datetime(merged_totalModel['start'], format = \"%d/%m/%Y\")\n",
    "merged_totalModel['end'] = pd.to_datetime(merged_totalModel['end'], format = \"%d/%m/%Y\")\n",
    "merged_totalModel['diagdate'] = pd.to_datetime(merged_totalModel['diagdate'])\n",
    "\n",
    "# rearrange columns \n",
    "column_order = ['e_patid', 'obsdate', 'diagdate', 'deathdate', 'start', 'end', 'yob', 'baseline_age', 'gender_encoded', 'gen_ethnicity', 'townsend', 'height (cm)', 'weight (kg)', 'alcohol_status', 'smoking_status', 'diabetes_status', 'antiplatelets_use', 'crp value (mg/L)', 'total_outcomes']\n",
    "merged_totalModel = merged_totalModel.reindex(columns=column_order)\n",
    "\n",
    "# rename start, end, obsdate\n",
    "merged_totalModel.rename(columns = {'obsdate':'ihd_diagdate', 'diagdate' : 'cancerdate', 'start' : 'cprd_enter', 'end' : 'cprd_exit'}, inplace = True)\n",
    "\n",
    "# save the model\n",
    "merged_totalModel.to_csv(\"final\\\\merged_totalModel_FINAL.csv\", index = False)"
   ]
  },
  {
   "cell_type": "markdown",
   "id": "afcf1650",
   "metadata": {},
   "source": [
    "#### follow-up date"
   ]
  },
  {
   "cell_type": "code",
   "execution_count": null,
   "id": "4d8f4910",
   "metadata": {},
   "outputs": [],
   "source": [
    "# Create follow-up date and age columns\n",
    "# Create a new column 'followup_enddate' based on the conditions: if outcomes is 0 make followup_enddate same as cprd_exit, if 1 make it cancerdate, if 2 make it deathdate\n",
    "merged_totalModel['followup_enddate'] = merged_totalModel['cprd_exit']\n",
    "merged_totalModel['followup_enddate'] = merged_totalModel['followup_enddate'].mask(merged_totalModel['total_outcomes'] == 1, merged_totalModel['cancerdate'])\n",
    "merged_totalModel['followup_enddate'] = merged_totalModel['followup_enddate'].mask(merged_totalModel['total_outcomes'] == 2, merged_totalModel['deathdate'])\n",
    "\n",
    "# set relevant columns as datetime objects\n",
    "merged_totalModel['followup_enddate'] = pd.to_datetime(merged_totalModel['followup_enddate'], errors = 'coerce')\n",
    "merged_totalModel['ihd_diagdate'] = pd.to_datetime(merged_totalModel['ihd_diagdate'], errors = 'coerce')\n",
    "\n",
    "# compute follow up time \n",
    "merged_totalModel['followup_time'] = (merged_totalModel['followup_enddate'].dt.year - merged_totalModel['ihd_diagdate'].dt.year)\n",
    "\n",
    "# compute follow up age \n",
    "merged_totalModel['followup_age'] = merged_totalModel['baseline_age'] + merged_totalModel['followup_time']\n",
    "\n",
    "# Reorder columns\n",
    "merged_totalModel = merged_totalModel[['e_patid', 'ihd_diagdate', 'cancerdate', 'deathdate', 'cprd_enter', 'cprd_exit', 'yob',\n",
    "                                       'followup_enddate', 'followup_time', 'baseline_age', 'followup_age', 'gender_encoded', 'gen_ethnicity',\n",
    "                                       'townsend', 'height (cm)', 'weight (kg)', 'alcohol_status', 'smoking_status',\n",
    "                                       'diabetes_status', 'antiplatelets_use', 'crp value (mg/L)', 'total_outcomes']]\n",
    "\n",
    "# keep only observations where follow up time is greater than 1 (for some of the censored date, cprd exit time seems to be before ihd diagnosis... I think because BLOTTED cut off at Dec 31, 2019 but some IHDs are in 2020/21)\n",
    "merged_totalModel = merged_totalModel[merged_totalModel['followup_time'] >= 0]\n",
    "\n",
    "merged_totalModel.to_csv(\"final\\\\merged_totalModel_FINAL.csv\", index = False)"
   ]
  }
 ],
 "metadata": {
  "kernelspec": {
   "display_name": "Python 3 (ipykernel)",
   "language": "python",
   "name": "python3"
  },
  "language_info": {
   "codemirror_mode": {
    "name": "ipython",
    "version": 3
   },
   "file_extension": ".py",
   "mimetype": "text/x-python",
   "name": "python",
   "nbconvert_exporter": "python",
   "pygments_lexer": "ipython3",
   "version": "3.9.12"
  }
 },
 "nbformat": 4,
 "nbformat_minor": 5
}
