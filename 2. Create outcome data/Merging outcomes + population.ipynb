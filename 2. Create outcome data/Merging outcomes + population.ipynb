{
 "cells": [
  {
   "cell_type": "code",
   "execution_count": 1,
   "id": "337219ec",
   "metadata": {},
   "outputs": [],
   "source": [
    "import fileinput\n",
    "import glob\n",
    "import pandas as pd\n",
    "import numpy as np\n",
    "import os\n",
    "from datetime import datetime\n",
    "from datetime import timedelta"
   ]
  },
  {
   "cell_type": "markdown",
   "id": "a04e66be",
   "metadata": {},
   "source": [
    "### Load Data"
   ]
  },
  {
   "cell_type": "code",
   "execution_count": null,
   "id": "dd7d76bf",
   "metadata": {},
   "outputs": [],
   "source": [
    "# IHD DATA\n",
    "DIR = \"merged_files\"\n",
    "os.chdir(DIR)\n",
    "\n",
    "ihd = pd.read_csv('ihd.csv')\n",
    "\n",
    "# DEATH DATA\n",
    "DIR = \"original_files\"\n",
    "os.chdir(DIR)\n",
    "\n",
    "death = pd.read_csv('deaths.csv', sep = '\\t')\n",
    "cancers = pd.read_csv('cancers.csv', sep = '\\t')\n",
    "\n",
    "# make sure deaths are only non-cancer\n",
    "compare = cancers.e_patid\n",
    "bools = death.e_patid.isin(compare)\n",
    "death = death[~bools.values] # now you just have non cancer death\n",
    "\n",
    "# also only keep deaths that appear in IHD dataframe\n",
    "compare2 = ihd.e_patid\n",
    "bools2 = death.e_patid.isin(compare2)\n",
    "death = death[bools2.values]\n",
    "\n",
    "# turn death death column into datetime object\n",
    "death['deathdate'] = pd.to_datetime(death['deathdate'], format = '%d%b%Y', errors = 'coerce')\n",
    "\n",
    "# CANCER DATA\n",
    "# turn cancer diagnosis data into datetime object\n",
    "cancer[\"diagdate\"] = pd.to_datetime(cancer[\"diagdate\"], format = \"%d%b%Y\")\n",
    "\n",
    "# Create the total cancer dataset \n",
    "DIR = \"cleaned_files\"\n",
    "os.chdir(DIR)\n",
    "cancer_total = cancer[[\"e_patid\", \"diagdate\", \"cancersite1\"]]\n",
    "cancer_total.to_csv(\"total_cancer.csv\", index = False)"
   ]
  },
  {
   "cell_type": "markdown",
   "id": "383a4d18",
   "metadata": {},
   "source": [
    "### Merge IHD, cancer, death data"
   ]
  },
  {
   "cell_type": "code",
   "execution_count": null,
   "id": "4371c395",
   "metadata": {},
   "outputs": [],
   "source": [
    "# merge the data frames\n",
    "outcomes_merged_total = pd.merge(ihd, death, on = 'e_patid', how = 'left')\n",
    "outcomes_merged_total = pd.merge(outcomes_merged_total, cancer_total, on = 'e_patid', how = 'left')\n",
    "\n",
    "# Convert obsdate and deathdate to datetime objects\n",
    "outcomes_merged_total['obsdate'] = pd.to_datetime(outcomes_merged_total['obsdate'])\n",
    "outcomes_merged_total['deathdate'] = pd.to_datetime(outcomes_merged_total['deathdate'], errors = 'coerce')\n",
    "\n",
    "# Create a new column that indicates whether deathdate is after obsdate\n",
    "outcomes_merged_total['is_valid'] = (outcomes_merged_total['deathdate'].isnull()) | (outcomes_merged_total['deathdate'] > outcomes_merged_total['obsdate'])\n",
    "\n",
    "# check out how many are invalid hehe\n",
    "outcomes_merged_total[~outcomes_merged_total['is_valid']]\n",
    "\n",
    "# make sure diagdate is datetime object\n",
    "outcomes_merged_total['diagdate'] = pd.to_datetime(outcomes_merged_total['diagdate'])\n",
    "\n",
    "#create new column 'outcome'\n",
    "outcomes_merged_total['outcome'] = np.nan\n",
    "\n",
    "# update 'outcome' column according to the following conditions\n",
    "# 0 - if no death or cancer info\n",
    "# 1 - if has cancer info\n",
    "# 2 - if has death info (and does not have cancer info)\n",
    "outcomes_merged_total.loc[(pd.notna(outcomes_merged_total['deathdate'])) & (pd.isna(outcomes_merged_total['diagdate'])), 'outcome'] = 2\n",
    "outcomes_merged_total.loc[(pd.isna(outcomes_merged_total['deathdate'])) & (pd.isna(outcomes_merged_total['diagdate'])), 'outcome'] = 0\n",
    "outcomes_merged_total.loc[pd.notna(outcomes_merged_total['diagdate']), 'outcome'] = 1\n",
    "\n",
    "# filter rows where diagdate occurs before obsdate\n",
    "outcomes_merged_total.loc[outcomes_merged_total['diagdate'] < outcomes_merged_total['obsdate'], 'outcome'] = np.nan\n",
    "# filter rows where deathdate occurs before IHD\n",
    "outcomes_merged_total.loc[outcomes_merged_total['deathdate'] < outcomes_merged_total['obsdate'], 'outcome'] = np.nan\n",
    "\n",
    "# get indices of the NaN values that are to be dropped!\n",
    "na_ids_total = outcomes_merged_total[outcomes_merged_total.outcome.isna()].e_patid\n",
    "\n",
    "# drop rows where outcome column is np.nan (it is only nan if filter conditions are applied!)\n",
    "outcomes_merged_total = outcomes_merged_total.dropna(subset = ['outcome'])\n",
    "\n",
    "DIR = 'cleaned_files'\n",
    "os.chdir(DIR)\n",
    "outcomes_merged_total.to_csv('outcomes.csv')"
   ]
  }
 ],
 "metadata": {
  "kernelspec": {
   "display_name": "Python 3 (ipykernel)",
   "language": "python",
   "name": "python3"
  },
  "language_info": {
   "codemirror_mode": {
    "name": "ipython",
    "version": 3
   },
   "file_extension": ".py",
   "mimetype": "text/x-python",
   "name": "python",
   "nbconvert_exporter": "python",
   "pygments_lexer": "ipython3",
   "version": "3.9.12"
  }
 },
 "nbformat": 4,
 "nbformat_minor": 5
}
