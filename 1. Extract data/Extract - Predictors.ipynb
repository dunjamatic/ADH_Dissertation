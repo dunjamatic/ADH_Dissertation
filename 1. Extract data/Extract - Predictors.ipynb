{
 "cells": [
  {
   "cell_type": "markdown",
   "id": "1fa48182",
   "metadata": {},
   "source": [
    "## This file is used on a per predictor basis (need to change file names/directories before extracting subsequent predictor)"
   ]
  },
  {
   "cell_type": "markdown",
   "id": "bd27dbdb",
   "metadata": {},
   "source": [
    "### Use for all predictors except age, gender, ethnicity, Townsend deprivation score, which were directly obtained from linked data"
   ]
  },
  {
   "cell_type": "markdown",
   "id": "cc076799",
   "metadata": {},
   "source": [
    "### Extract individual files"
   ]
  },
  {
   "cell_type": "code",
   "execution_count": null,
   "id": "d81272e1",
   "metadata": {},
   "outputs": [],
   "source": [
    "import fileinput\n",
    "import glob\n",
    "import pandas as pd\n",
    "import numpy as np\n",
    "import os\n",
    "from datetime import datetime\n",
    "\n",
    "DIR = \"original_files\" # change directory, if needed (to where files are stored)\n",
    "os.chdir(DIR)\n",
    "\n",
    "# make output folder if it does not already exist\n",
    "outputdir = \"merged_files\" # change directory, if needed (to name of predictor)\n",
    "if not os.path.exists(outputdir):\n",
    "    os.makedirs(outputdir)\n",
    "\n",
    "# get comparator (e.g., diabetes SNOMED or medical codes)\n",
    "compare = pd.read_table(\"\") # specify code for relevant predictor (e.g., diabetes-codes.txt)\n",
    "\n",
    "# get the txt files you want to work with\n",
    "files = glob.glob('*.txt')\n",
    "\n",
    "# loop through each file and manipulate as desired\n",
    "for file in files:\n",
    "    print(file) # keep track of what loop you're on\n",
    "    name = os.path.basename(file).split('.')[0] # get file name\n",
    "    in_data = pd.read_table(file) # read file into dataframe    \n",
    "    bools = in_data.medcodeid.isin(compare.medcodeid) # get array of True/False for rows in in_data that have diabetes \n",
    "    out_data = in_data[bools.values] # keep only rows with True\n",
    "    out_data = out_data[[\"e_patid\", \"consid\", \"obsdate\", \"medcodeid\"]] # keep only relevant columns\n",
    "    out_data.to_csv(outputdir + \"\\\\\" + name + \".csv\", index = False)"
   ]
  },
  {
   "cell_type": "markdown",
   "id": "d8860912",
   "metadata": {},
   "source": [
    "### Merge all the individual files that were just extracted"
   ]
  },
  {
   "cell_type": "code",
   "execution_count": null,
   "id": "d8fd3dfa",
   "metadata": {},
   "outputs": [],
   "source": [
    "DIR = \"merged_files\" # change directory, if needed\n",
    "os.chdir(DIR)\n",
    "\n",
    "files = glob.glob('*.csv')\n",
    "\n",
    "df_merged = pd.DataFrame()\n",
    "for file in files:\n",
    "    print(file)\n",
    "    data = pd.read_csv(file)\n",
    "    df_merged = pd.concat([df_merged, data], axis = 0, ignore_index = True)\n",
    "\n",
    "# save copy before removing duplicates    \n",
    "df_merged.to_csv(\"predictor_name\", index = False) # change as needed to save specific predictor file (e.g., diabetes.csv)])"
   ]
  },
  {
   "cell_type": "markdown",
   "id": "a19f6145",
   "metadata": {},
   "source": [
    "### For diabetes predictor only!"
   ]
  },
  {
   "cell_type": "code",
   "execution_count": null,
   "id": "6fa01a96",
   "metadata": {},
   "outputs": [],
   "source": [
    "# keep earliest diabetes diagnosis (bc it is about 'history diabetes - yes/no')\n",
    "df_merged[\"obsdate\"] = pd.to_datetime(df_merged[\"obsdate\"], errors = \"coerce\") # turn obsdate into datetime object\n",
    "df_merged = df_merged.sort_values([\"e_patid\", \"obsdate\"]) # sort values based on patient ID and obsdate\n",
    "df_merged = df_merged.drop_duplicates(subset=['e_patid'], keep='first')\n",
    "bools_duplicates = ~df_merged[\"e_patid\"].duplicated() # find duplicates and make boolean such that first instance of duplicate (i.e., earliest occurence date-wise) is True\n",
    "df_merged = df_merged[bools_duplicates.values] # keep only rows that are True in the boolean (because this is only 'diabetes history' so date of occurence does not matter)\n",
    "\n",
    "df_merged.to_csv(\"predictor_name\", index = False) # change as needed to save specific predictor file (e.g., merged_diabetes_files.csv)"
   ]
  }
 ],
 "metadata": {
  "kernelspec": {
   "display_name": "Python 3 (ipykernel)",
   "language": "python",
   "name": "python3"
  },
  "language_info": {
   "codemirror_mode": {
    "name": "ipython",
    "version": 3
   },
   "file_extension": ".py",
   "mimetype": "text/x-python",
   "name": "python",
   "nbconvert_exporter": "python",
   "pygments_lexer": "ipython3",
   "version": "3.9.12"
  }
 },
 "nbformat": 4,
 "nbformat_minor": 5
}
